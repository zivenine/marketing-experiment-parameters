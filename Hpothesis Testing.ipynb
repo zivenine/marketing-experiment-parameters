{
 "cells": [
  {
   "cell_type": "code",
   "execution_count": 1,
   "metadata": {},
   "outputs": [],
   "source": [
    "import numpy as np\n",
    "import pandas as pd\n",
    "import statsmodels.api as sms\n",
    "from statsmodels.stats.power import GofChisquarePower"
   ]
  },
  {
   "cell_type": "code",
   "execution_count": 5,
   "metadata": {},
   "outputs": [
    {
     "name": "stdout",
     "output_type": "stream",
     "text": [
      "Chi2 Statistic: 45.45166424827888\n",
      "P-value: 1.5645254019612348e-11\n",
      "Degrees of Freedom: 1\n",
      "Expected Frequencies:\n",
      "[[ 2933.52562939 26680.47437061]\n",
      " [ 2307.47437061 20986.52562939]]\n"
     ]
    }
   ],
   "source": [
    "# Run a chi-square test for independence\n",
    "\n",
    "import numpy as np\n",
    "from scipy.stats import chi2_contingency\n",
    "\n",
    "# Example contingency table\n",
    "# Rows: Categories of variable 1\n",
    "# Columns: Categories of variable 2\n",
    "data = np.array([[3164, (29614-3164)], \n",
    "                 [2077, (23294-2077)]])\n",
    "\n",
    "# Perform the chi-square test\n",
    "chi2, p, dof, expected = chi2_contingency(data)\n",
    "\n",
    "# Print the results\n",
    "print(f\"Chi2 Statistic: {chi2}\")\n",
    "print(f\"P-value: {p}\")\n",
    "print(f\"Degrees of Freedom: {dof}\")\n",
    "print(\"Expected Frequencies:\")\n",
    "print(expected)"
   ]
  },
  {
   "cell_type": "code",
   "execution_count": 2,
   "metadata": {},
   "outputs": [
    {
     "name": "stdout",
     "output_type": "stream",
     "text": [
      "Chi-squared Statistic: 6.891669613013987\n",
      "P-value: 0.008659834679724454\n",
      "Degrees of Freedom: 1\n"
     ]
    }
   ],
   "source": [
    "import scipy.stats as stats\n",
    "\n",
    "# Observed values: clicks and non-clicks for versions A and B\n",
    "observed = [[1935, (15551-1935)], [487, (3452-487)]]\n",
    "\n",
    "# Perform chi-squared test\n",
    "chi2_stat, p_val, dof, ex = stats.chi2_contingency(observed)\n",
    "\n",
    "# Output the results\n",
    "print(f\"Chi-squared Statistic: {chi2_stat}\")\n",
    "print(f\"P-value: {p_val}\")\n",
    "print(f\"Degrees of Freedom: {dof}\")\n"
   ]
  },
  {
   "cell_type": "code",
   "execution_count": 2,
   "metadata": {},
   "outputs": [
    {
     "data": {
      "text/plain": [
       "147604.0"
      ]
     },
     "execution_count": 2,
     "metadata": {},
     "output_type": "execute_result"
    }
   ],
   "source": [
    "(296838/2)-815"
   ]
  },
  {
   "cell_type": "markdown",
   "metadata": {},
   "source": [
    "### Fishers Exact Hypothesis Test"
   ]
  },
  {
   "cell_type": "code",
   "execution_count": 1,
   "metadata": {},
   "outputs": [
    {
     "name": "stdout",
     "output_type": "stream",
     "text": [
      "Fishers Exact A/B Test Results:\n",
      "Group A: 1236 clicks out of 81843.0 impressions\n",
      "Group B: 1334 clicks out of 81843.0 impressions\n",
      "Odds ratio: 0.9265\n",
      "P-value: 0.0563\n",
      "\n",
      "Fail to reject the null hypothesis. There is not enough evidence to conclude a statistically significant result.\n",
      "\n",
      "Click-through rates:\n",
      "Group A CTR: 1.51%\n",
      "Group B CTR: 1.63%\n",
      "Absolute difference in CTR: 0.12%\n"
     ]
    }
   ],
   "source": [
    "from scipy.stats import fisher_exact\n",
    "import numpy as np\n",
    "\n",
    "# Record the number of successes and failures for each group\n",
    "clicks_A, clicks_B = 1236, 1334\n",
    "impressions_A, impressions_B = 163686/2, 163686/2\n",
    "\n",
    "# Define the 2x2 contingency table for the AB test\n",
    "contingency_table = [[clicks_A, impressions_A], [clicks_B, impressions_B]]\n",
    "\n",
    "# Perform Fisher's Exact Test\n",
    "oddsratio, p_value = fisher_exact(contingency_table)\n",
    "\n",
    "# Print results\n",
    "print(f\"Fishers Exact A/B Test Results:\")\n",
    "print(f\"Group A: {clicks_A} clicks out of {impressions_A} impressions\")\n",
    "print(f\"Group B: {clicks_B} clicks out of {impressions_B} impressions\")\n",
    "print(f\"Odds ratio: {oddsratio:.4f}\")\n",
    "print(f\"P-value: {p_value:.4f}\")\n",
    "\n",
    "# Interpret the results\n",
    "alpha = 0.05\n",
    "\n",
    "if p_value < alpha:\n",
    "    print(\"\\nReject the null hypothesis. There is a statistically significant result.\")\n",
    "else:\n",
    "    print(\"\\nFail to reject the null hypothesis. There is not enough evidence to conclude a statistically significant result.\")\n",
    "    \n",
    "# Calculate and print click-through rates (CTR)\n",
    "ctr_A = clicks_A / impressions_A\n",
    "ctr_B = clicks_B / impressions_B\n",
    "print(f\"\\nClick-through rates:\")\n",
    "print(f\"Group A CTR: {ctr_A:.2%}\")\n",
    "print(f\"Group B CTR: {ctr_B:.2%}\")\n",
    "print(f\"Absolute difference in CTR: {abs(ctr_A - ctr_B):.2%}\")"
   ]
  },
  {
   "cell_type": "code",
   "execution_count": null,
   "metadata": {},
   "outputs": [],
   "source": []
  },
  {
   "cell_type": "markdown",
   "metadata": {},
   "source": [
    "### Two Sided Z Test "
   ]
  },
  {
   "cell_type": "code",
   "execution_count": 2,
   "metadata": {},
   "outputs": [
    {
     "name": "stdout",
     "output_type": "stream",
     "text": [
      "Z Test A/B Test Results:\n",
      "Group A: 1236 clicks out of 81843.0 impressions\n",
      "Group B: 1334 clicks out of 81843.0 impressions\n",
      "Z-statistic: -1.9485\n",
      "P-value: 0.0514\n",
      "\n",
      "Result: Fail to reject the null hypothesis.\n",
      "Interpretation: There is not enough evidence to conclude a significant difference.\n",
      "\n",
      "Click-through rates:\n",
      "Group A CTR: 1.51%\n",
      "Group B CTR: 1.63%\n",
      "Absolute difference in CTR: 0.12%\n"
     ]
    }
   ],
   "source": [
    "import numpy as np\n",
    "from scipy.stats import norm\n",
    "\n",
    "def z_test_2_sample_proportions(x1, x2, n1, n2):\n",
    "    \"\"\"\n",
    "    Conduct a two-sided z-test for comparing two proportions.\n",
    "    \n",
    "    x1, x2: number of successes (clicks) in group A and B\n",
    "    n1, n2: total number of observations in group A and B\n",
    "    \n",
    "    Returns: z-score and p-value\n",
    "    \"\"\"\n",
    "    # Calculate pooled sample proportion\n",
    "    pooled_p = (x1 + x2) / (n1 + n2)\n",
    "    \n",
    "    # Calculate z statistic\n",
    "    z_val = (x1/n1 - x2/n2) / np.sqrt(pooled_p * (1 - pooled_p) * (1/n1 + 1/n2))\n",
    "    \n",
    "    # Calculate two-tailed p-value\n",
    "    p_val = 2 * norm.cdf(-np.abs(z_val))\n",
    "    \n",
    "    return z_val, p_val\n",
    "\n",
    "# Example data: Group A has 48 clicks out of 550 impressions, Group B has 56 clicks out of 450 impressions\n",
    "clicks_A, clicks_B = 1236, 1334\n",
    "impressions_A, impressions_B = 163686/2, 163686/2\n",
    "\n",
    "# Perform the z-test\n",
    "z_stat, p_value = z_test_2_sample_proportions(clicks_A, clicks_B, impressions_A, impressions_B)\n",
    "\n",
    "# Print results\n",
    "print(f\"Z Test A/B Test Results:\")\n",
    "print(f\"Group A: {clicks_A} clicks out of {impressions_A} impressions\")\n",
    "print(f\"Group B: {clicks_B} clicks out of {impressions_B} impressions\")\n",
    "print(f\"Z-statistic: {z_stat:.4f}\")\n",
    "print(f\"P-value: {p_value:.4f}\")\n",
    "\n",
    "# Interpret the results\n",
    "alpha = 0.05  # Significance level\n",
    "if p_value < alpha:\n",
    "    print(\"\\nResult: Reject the null hypothesis.\")\n",
    "    print(\"Interpretation: There is a significant difference between the two groups.\")\n",
    "else:\n",
    "    print(\"\\nResult: Fail to reject the null hypothesis.\")\n",
    "    print(\"Interpretation: There is not enough evidence to conclude a significant difference.\")\n",
    "\n",
    "# Calculate and print click-through rates (CTR)\n",
    "ctr_A = clicks_A / impressions_A\n",
    "ctr_B = clicks_B / impressions_B\n",
    "\n",
    "print(f\"\\nClick-through rates:\")\n",
    "print(f\"Group A CTR: {ctr_A:.2%}\")\n",
    "print(f\"Group B CTR: {ctr_B:.2%}\")\n",
    "print(f\"Absolute difference in CTR: {abs(ctr_A - ctr_B):.2%}\")"
   ]
  },
  {
   "cell_type": "code",
   "execution_count": null,
   "metadata": {},
   "outputs": [],
   "source": []
  },
  {
   "cell_type": "code",
   "execution_count": null,
   "metadata": {},
   "outputs": [],
   "source": []
  },
  {
   "cell_type": "code",
   "execution_count": null,
   "metadata": {},
   "outputs": [],
   "source": []
  },
  {
   "cell_type": "code",
   "execution_count": null,
   "metadata": {},
   "outputs": [],
   "source": []
  },
  {
   "cell_type": "code",
   "execution_count": null,
   "metadata": {},
   "outputs": [],
   "source": []
  },
  {
   "cell_type": "code",
   "execution_count": null,
   "metadata": {},
   "outputs": [],
   "source": []
  },
  {
   "cell_type": "code",
   "execution_count": null,
   "metadata": {},
   "outputs": [],
   "source": []
  },
  {
   "cell_type": "code",
   "execution_count": null,
   "metadata": {},
   "outputs": [],
   "source": []
  },
  {
   "cell_type": "code",
   "execution_count": null,
   "metadata": {},
   "outputs": [],
   "source": []
  },
  {
   "cell_type": "code",
   "execution_count": null,
   "metadata": {},
   "outputs": [],
   "source": []
  },
  {
   "cell_type": "code",
   "execution_count": null,
   "metadata": {},
   "outputs": [],
   "source": []
  },
  {
   "cell_type": "code",
   "execution_count": null,
   "metadata": {},
   "outputs": [],
   "source": []
  }
 ],
 "metadata": {
  "kernelspec": {
   "display_name": "marketing",
   "language": "python",
   "name": "python3"
  },
  "language_info": {
   "codemirror_mode": {
    "name": "ipython",
    "version": 3
   },
   "file_extension": ".py",
   "mimetype": "text/x-python",
   "name": "python",
   "nbconvert_exporter": "python",
   "pygments_lexer": "ipython3",
   "version": "3.11.5"
  }
 },
 "nbformat": 4,
 "nbformat_minor": 2
}
