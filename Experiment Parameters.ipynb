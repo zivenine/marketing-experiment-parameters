{
 "cells": [
  {
   "cell_type": "markdown",
   "metadata": {},
   "source": [
    "# Experiment Parameters\n",
    "Calculate the sample size and duration of marketing experiments"
   ]
  },
  {
   "cell_type": "code",
   "execution_count": 44,
   "metadata": {},
   "outputs": [],
   "source": [
    "import numpy as np\n",
    "import pandas as pd\n",
    "import statsmodels.api as sms\n",
    "from statsmodels.stats.power import GofChisquarePower\n"
   ]
  },
  {
   "cell_type": "markdown",
   "metadata": {},
   "source": [
    "### Two Sample T Test\n",
    "Used to compare the means of continuous variables (e.g., average time spent on the page)."
   ]
  },
  {
   "cell_type": "code",
   "execution_count": 42,
   "metadata": {},
   "outputs": [
    {
     "name": "stdout",
     "output_type": "stream",
     "text": [
      "Required sample size per group: 6280\n",
      "Total traffic needed per group: 125600\n",
      "Duration needed (days): 42\n"
     ]
    }
   ],
   "source": [
    "# Parameters\n",
    "alpha = 0.05  # Significance level\n",
    "power = 0.8   # Statistical power\n",
    "\n",
    "effect_size = 0.05  # Effect size (Cohen's d)\n",
    "\n",
    "# Calculate sample size\n",
    "analysis = sms.TTestIndPower()\n",
    "sample_size = analysis.solve_power(effect_size=effect_size, alpha=alpha, power=power, alternative='two-sided')\n",
    "\n",
    "# Calculate duration\n",
    "conversion_rate = 0.05  # Example conversion rate\n",
    "traffic_per_day = 3000  # Example daily traffic\n",
    "\n",
    "# Total traffic needed per group\n",
    "total_traffic_per_group = sample_size / conversion_rate\n",
    "\n",
    "# Duration in days\n",
    "duration_days = total_traffic_per_group / traffic_per_day\n",
    "\n",
    "print(f\"Required sample size per group: {int(sample_size)}\")\n",
    "print(f\"Total traffic needed per group: {int(total_traffic_per_group)}\")\n",
    "print(f\"Duration needed (days): {int(np.ceil(duration_days))}\")\n"
   ]
  },
  {
   "cell_type": "markdown",
   "metadata": {},
   "source": [
    "### One-Sided Z Test\n",
    "\n",
    "Used to compare proportions (e.g., conversion rates) and sample sizes are sufficiently large."
   ]
  },
  {
   "cell_type": "code",
   "execution_count": 32,
   "metadata": {},
   "outputs": [
    {
     "name": "stdout",
     "output_type": "stream",
     "text": [
      "Required sample size (sessions) for each group: 12301.74\n",
      "Estimated test duration in days: 24.60\n"
     ]
    }
   ],
   "source": [
    "import scipy.stats as stats\n",
    "import numpy as np\n",
    "\n",
    "def calculate_sample_size_one_sided(baseline_rate, effect_size, alpha, power):\n",
    "    \"\"\"\n",
    "    Calculate the sample size required for a one-sided Z-test in an A/B test.\n",
    "\n",
    "    Parameters:\n",
    "    - baseline_rate: The current conversion rate of the control group.\n",
    "    - effect_size: The minimum detectable effect (difference in proportions between control and test groups).\n",
    "    - alpha: The significance level (commonly 0.05).\n",
    "    - power: The desired power of the test (commonly 0.8).\n",
    "\n",
    "    Returns:\n",
    "    - Sample size for each group (number of sessions).\n",
    "    \"\"\"\n",
    "    # Calculate pooled proportion\n",
    "    pooled_rate = baseline_rate + effect_size / 2\n",
    "\n",
    "    # Calculate standard deviation of the effect size\n",
    "    effect_size_std = effect_size / np.sqrt(pooled_rate * (1 - pooled_rate))\n",
    "\n",
    "    # Calculate Z-scores for the desired significance level and power\n",
    "    z_alpha = stats.norm.ppf(1 - alpha)\n",
    "    z_beta = stats.norm.ppf(power)\n",
    "\n",
    "    # Calculate sample size\n",
    "    sample_size = ((z_alpha + z_beta) ** 2) * (pooled_rate * (1 - pooled_rate)) / (effect_size ** 2)\n",
    "    return sample_size\n",
    "\n",
    "def calculate_test_duration(daily_sessions, sample_size_per_group):\n",
    "    \"\"\"\n",
    "    Calculate the duration required for an A/B test based on daily sessions and required sample size.\n",
    "\n",
    "    Parameters:\n",
    "    - daily_sessions: The average number of sessions per day.\n",
    "    - sample_size_per_group: The required sample size for each group.\n",
    "\n",
    "    Returns:\n",
    "    - Duration in days.\n",
    "    \"\"\"\n",
    "    total_sample_size = sample_size_per_group * 2  # Considering both control and test groups\n",
    "    duration = total_sample_size / daily_sessions\n",
    "    return duration\n",
    "\n",
    "# Example usage\n",
    "baseline_rate = 0.05  # Current conversion rate \n",
    "effect_size = 0.005    # Minimum detectable effect (not %)\n",
    "alpha = 0.05          # Significance level\n",
    "power = 0.8           # Power of the test\n",
    "\n",
    "# Calculate sample size\n",
    "sample_size_per_group = calculate_sample_size_one_sided(baseline_rate, effect_size, alpha, power)\n",
    "print(f\"Required sample size (sessions) for each group: {sample_size_per_group:.2f}\")\n",
    "\n",
    "# Example daily sessions\n",
    "daily_sessions = 1000  # Average daily sessions\n",
    "\n",
    "# Calculate test duration\n",
    "duration = calculate_test_duration(daily_sessions, sample_size_per_group)\n",
    "print(f\"Estimated test duration in days: {duration:.2f}\")\n",
    "\n"
   ]
  },
  {
   "cell_type": "markdown",
   "metadata": {},
   "source": [
    "### Chi Squared Test\n",
    "Used to compare categorical data, like comparing conversion rates (success/failure)."
   ]
  },
  {
   "cell_type": "code",
   "execution_count": 45,
   "metadata": {},
   "outputs": [
    {
     "name": "stdout",
     "output_type": "stream",
     "text": [
      "Required sample size per group: 1962\n",
      "Total sample size (both groups): 3924\n",
      "Duration required: 1.31 days\n"
     ]
    }
   ],
   "source": [
    "# Parameters\n",
    "p1 = 0.10  # Baseline conversion rate\n",
    "p2 = 0.12  # Expected conversion rate\n",
    "alpha = 0.05  # Significance level\n",
    "power = 0.80  # Statistical power\n",
    "\n",
    "# Calculate effect size\n",
    "effect_size = np.sqrt(((p1 - p2)**2) / p1)\n",
    "\n",
    "# Calculate required sample size per group\n",
    "power_analysis = GofChisquarePower()\n",
    "sample_size_per_group = power_analysis.solve_power(effect_size=effect_size, nobs=None, alpha=alpha, power=power)\n",
    "\n",
    "# Calculate total sample size (both groups)\n",
    "total_sample_size = sample_size_per_group * 2\n",
    "\n",
    "# Duration calculation\n",
    "average_daily_visitors = 3000  # Example average number of visitors per day\n",
    "duration_days = total_sample_size / average_daily_visitors\n",
    "\n",
    "print(f\"Required sample size per group: {sample_size_per_group:.0f}\")\n",
    "print(f\"Total sample size (both groups): {total_sample_size:.0f}\")\n",
    "print(f\"Duration required: {duration_days:.2f} days\")\n"
   ]
  },
  {
   "cell_type": "code",
   "execution_count": null,
   "metadata": {},
   "outputs": [],
   "source": []
  },
  {
   "cell_type": "code",
   "execution_count": null,
   "metadata": {},
   "outputs": [],
   "source": []
  },
  {
   "cell_type": "code",
   "execution_count": null,
   "metadata": {},
   "outputs": [],
   "source": []
  },
  {
   "cell_type": "code",
   "execution_count": null,
   "metadata": {},
   "outputs": [],
   "source": []
  },
  {
   "cell_type": "code",
   "execution_count": null,
   "metadata": {},
   "outputs": [],
   "source": []
  }
 ],
 "metadata": {
  "kernelspec": {
   "display_name": "marketing",
   "language": "python",
   "name": "python3"
  },
  "language_info": {
   "codemirror_mode": {
    "name": "ipython",
    "version": 3
   },
   "file_extension": ".py",
   "mimetype": "text/x-python",
   "name": "python",
   "nbconvert_exporter": "python",
   "pygments_lexer": "ipython3",
   "version": "3.11.5"
  }
 },
 "nbformat": 4,
 "nbformat_minor": 2
}
