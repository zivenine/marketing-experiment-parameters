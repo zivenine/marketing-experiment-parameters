{
 "cells": [
  {
   "cell_type": "markdown",
   "metadata": {},
   "source": [
    "# Experiment Parameters\n",
    "Calculate the sample size and duration of marketing experiments."
   ]
  },
  {
   "cell_type": "code",
   "execution_count": null,
   "metadata": {},
   "outputs": [],
   "source": []
  },
  {
   "cell_type": "markdown",
   "metadata": {},
   "source": [
    "### Fishers Exact Test\n",
    "\n",
    "Used to compare the means of continuous variables. \n",
    "\n",
    "Used when the sample sizes are small. "
   ]
  },
  {
   "cell_type": "code",
   "execution_count": 8,
   "metadata": {},
   "outputs": [
    {
     "name": "stdout",
     "output_type": "stream",
     "text": [
      "Required sample size per group: 6506\n",
      "Total sample size (both groups): 13012\n",
      "Estimated test duration (days): 7.77\n"
     ]
    }
   ],
   "source": [
    "import numpy as np\n",
    "from scipy.stats import fisher_exact\n",
    "\n",
    "# Function to simulate Fisher's exact test for each sample size\n",
    "def fisher_exact_power_simulation(alpha, power, p1, p2, max_sample_size=150000, iterations=100):\n",
    "    for n in range(10, max_sample_size + 1):\n",
    "        successes_control = np.random.binomial(n, p1, iterations)\n",
    "        successes_variant = np.random.binomial(n, p2, iterations)\n",
    "        significant_results = 0\n",
    "\n",
    "        for control_success, variant_success in zip(successes_control, successes_variant):\n",
    "            table = [[control_success, n - control_success],\n",
    "                     [variant_success, n - variant_success]]\n",
    "            _, p_value = fisher_exact(table)\n",
    "            if p_value < alpha:\n",
    "                significant_results += 1\n",
    "\n",
    "        # Calculate the observed power\n",
    "        observed_power = significant_results / iterations\n",
    "\n",
    "        if observed_power >= power:\n",
    "            return n\n",
    "        \n",
    "    return None\n",
    "\n",
    "# Example usage\n",
    "alpha = 0.05\n",
    "power = 0.8\n",
    "baseline_conversion = 0.0012\n",
    "variant_conversion = 0.0024\n",
    "iterations = 10  # Number of simulations per sample size\n",
    "\n",
    "sample_size_per_group = fisher_exact_power_simulation(alpha, power, baseline_conversion, variant_conversion, iterations=iterations)\n",
    "total_sample_size = sample_size_per_group * 2\n",
    "daily_traffic = (1621+1621/30.5)\n",
    "duration = total_sample_size / daily_traffic\n",
    "\n",
    "print(f\"Required sample size per group: {sample_size_per_group}\")\n",
    "print(f\"Total sample size (both groups): {total_sample_size}\")\n",
    "print(f\"Estimated test duration (days): {duration:.2f}\")\n"
   ]
  },
  {
   "cell_type": "code",
   "execution_count": null,
   "metadata": {},
   "outputs": [],
   "source": []
  },
  {
   "cell_type": "markdown",
   "metadata": {},
   "source": [
    "### Two Sided T Test\n",
    "Used to compare the means of continuous variables (e.g., average time spent on the page). \n",
    "\n",
    "Used when the variance is unknown, data distribution deviates from normality, and sample sizes are small. \n",
    "\n",
    "Two sample is used if the metric can move in either direction. "
   ]
  },
  {
   "cell_type": "code",
   "execution_count": 7,
   "metadata": {},
   "outputs": [
    {
     "name": "stdout",
     "output_type": "stream",
     "text": [
      "Required sample size per group: 6280\n",
      "Total traffic needed per group: 476812\n",
      "Duration needed (days): 69\n"
     ]
    }
   ],
   "source": [
    "import math\n",
    "from scipy.stats import t\n",
    "\n",
    "# Function to calculate sample size for A/B test using t-test\n",
    "def sample_size_t_test(baseline_ctr, mde, std_dev=None, alpha=0.05, power=0.8):\n",
    "    # If standard deviation is not provided, approximate it based on baseline CTR\n",
    "    if std_dev is None:\n",
    "        std_dev = math.sqrt(baseline_ctr * (1 - baseline_ctr))\n",
    "\n",
    "    # Degrees of freedom approximation for large samples\n",
    "    df = 1000000  # Approximation to infinite degrees of freedom for t-distribution\n",
    "    \n",
    "    # T-scores for significance level and power\n",
    "    t_alpha = t.ppf(1 - alpha / 2, df)  # Two-tailed test\n",
    "    t_beta = t.ppf(power, df)\n",
    "    \n",
    "    # Standard error of the mean difference\n",
    "    se = std_dev * math.sqrt(2)  # for two independent samples\n",
    "\n",
    "    # Formula for sample size calculation\n",
    "    sample_size_per_group = ((t_alpha + t_beta) ** 2 * se ** 2) / (mde ** 2)\n",
    "\n",
    "    return math.ceil(sample_size_per_group)\n",
    "\n",
    "# Function to calculate the test duration\n",
    "def test_duration(sample_size, daily_traffic):\n",
    "    return sample_size / daily_traffic\n",
    "\n",
    "# Parameters\n",
    "baseline_ctr = 0.05  # Example: 5% current CTR\n",
    "mde = 0.01           # Example: Looking to detect a 1% change in CTR\n",
    "alpha = 0.05         # Significance level (5%)\n",
    "power = 0.8          # Power (80%)\n",
    "daily_traffic = 1000 # Example: 1000 visitors per day\n",
    "\n",
    "# Calculate sample size\n",
    "sample_size = sample_size_t_test(baseline_ctr, mde, alpha=alpha, power=power)\n",
    "total_sample_size = 2 * sample_size  # A/B test has two groups\n",
    "\n",
    "# Calculate test duration\n",
    "duration = test_duration(total_sample_size, daily_traffic)\n",
    "\n",
    "print(f\"Required sample size per group: {sample_size}\")\n",
    "print(f\"Total sample size for the test: {total_sample_size}\")\n",
    "print(f\"Test duration in days: {duration:.2f}\")\n",
    "\n"
   ]
  },
  {
   "cell_type": "code",
   "execution_count": null,
   "metadata": {},
   "outputs": [],
   "source": []
  },
  {
   "cell_type": "markdown",
   "metadata": {},
   "source": [
    "### Two Sided Z Test\n",
    "\n",
    "To compare the means of a continuous variable or two proportions. \n",
    "\n",
    "Used when variance is known, data distribution is normal, and sample sizes are large. \n",
    "\n",
    "Two sided when the metric can move in either direction. "
   ]
  },
  {
   "cell_type": "code",
   "execution_count": null,
   "metadata": {},
   "outputs": [
    {
     "name": "stdout",
     "output_type": "stream",
     "text": [
      "Required sample size per group: 3421\n",
      "Total sample size for the test: 6842\n",
      "Duration needed (days): 1.04\n"
     ]
    }
   ],
   "source": [
    "import math\n",
    "from scipy.stats import norm\n",
    "\n",
    "# Function to calculate sample size for A/B test\n",
    "def sample_size_calculator(baseline_metric, mde, alpha=0.05, power=0.8):\n",
    "    # Convert percentages to proportions\n",
    "    p1 = baseline_metric\n",
    "    p2 = baseline_metric + mde\n",
    "    \n",
    "    if p1 > 0 and p1 < 1 and p2 > 0 and p2 < 1 and alpha > 0 and alpha < 1 and power > 0 and power < 1:\n",
    "        # Z-scores for significance level and power\n",
    "        z_alpha = norm.ppf(1 - alpha / 2)  # Two-tailed test\n",
    "        z_beta = norm.ppf(power)\n",
    "        \n",
    "        # Pooled proportion (average of the two conversion rates)\n",
    "        pooled_prob = (p1 + p2) / 2\n",
    "        \n",
    "        # Standard error calculation\n",
    "        se = math.sqrt(2 * pooled_prob * (1 - pooled_prob))\n",
    "        \n",
    "        # Formula for sample size calculation\n",
    "        sample_size_per_group = ((z_alpha + z_beta) ** 2 * se ** 2) / (mde ** 2)\n",
    "        \n",
    "        return math.ceil(sample_size_per_group)\n",
    "    else:\n",
    "        print(\"Invalid input values. Check that all values are between 0 and 1.\")\n",
    "\n",
    "# Function to calculate test duration\n",
    "def test_duration(sample_size, daily_traffic):\n",
    "    return sample_size / daily_traffic\n",
    "\n",
    "# Parameters\n",
    "baseline_metric = 0.32  # Example: 5% current CTR\n",
    "mde = 0.032           # Example: Looking to detect a 1% change\n",
    "alpha = 0.05         # Significance level (5%)\n",
    "power = 0.8          # Power (80%)\n",
    "daily_traffic = (200000/30.5)  # Example: 1000 visitors per day\n",
    "\n",
    "# Calculate sample size\n",
    "sample_size = sample_size_calculator(baseline_metric, mde, alpha, power)\n",
    "total_sample_size = 2 * sample_size  # A/B test has two groups\n",
    "\n",
    "# Calculate test duration\n",
    "duration = test_duration(total_sample_size, daily_traffic)\n",
    "\n",
    "print(f\"Required sample size per group: {sample_size}\")\n",
    "print(f\"Total sample size for the test: {total_sample_size}\")\n",
    "print(f\"Duration needed (days): {duration:.2f}\")\n",
    "\n"
   ]
  },
  {
   "cell_type": "code",
   "execution_count": null,
   "metadata": {},
   "outputs": [],
   "source": []
  },
  {
   "cell_type": "markdown",
   "metadata": {},
   "source": [
    "### Chi Squared Test of Independence - Sample Size and Duration\n",
    "Used to compare two samples of the same categorical variable to see if there is a significant difference or to compare two proportions. "
   ]
  },
  {
   "cell_type": "code",
   "execution_count": 2,
   "metadata": {},
   "outputs": [
    {
     "name": "stdout",
     "output_type": "stream",
     "text": [
      "Required sample size per group: 3417.0\n",
      "Total sample size (both groups): 6834.0\n",
      "Estimated test duration (days): 1.04\n"
     ]
    }
   ],
   "source": [
    "import numpy as np\n",
    "from scipy.stats import norm\n",
    "\n",
    "def calculate_sample_size(alpha, power, p1, p2):\n",
    "    z_alpha = norm.ppf(1 - alpha / 2)\n",
    "    z_beta = norm.ppf(power)\n",
    "    n = ((z_alpha + z_beta) ** 2 * (p1 * (1 - p1) + p2 * (1 - p2))) / ((p1 - p2) ** 2)\n",
    "    return np.ceil(n)\n",
    "\n",
    "# Example usage\n",
    "alpha = 0.05\n",
    "power = 0.8\n",
    "baseline_conversion = 0.32\n",
    "variant_conversion = 0.352\n",
    "\n",
    "sample_size = calculate_sample_size(alpha, power, baseline_conversion, variant_conversion)\n",
    "total_sample_size = sample_size * 2\n",
    "daily_traffic = (200000/30.5)\n",
    "duration = total_sample_size / daily_traffic\n",
    "\n",
    "print(f\"Required sample size per group: {sample_size}\")\n",
    "print(f\"Total sample size (both groups): {total_sample_size}\")\n",
    "print(f\"Estimated test duration (days): {duration:.2f}\")\n",
    "\n"
   ]
  },
  {
   "cell_type": "code",
   "execution_count": null,
   "metadata": {},
   "outputs": [],
   "source": []
  }
 ],
 "metadata": {
  "kernelspec": {
   "display_name": "marketing",
   "language": "python",
   "name": "python3"
  },
  "language_info": {
   "codemirror_mode": {
    "name": "ipython",
    "version": 3
   },
   "file_extension": ".py",
   "mimetype": "text/x-python",
   "name": "python",
   "nbconvert_exporter": "python",
   "pygments_lexer": "ipython3",
   "version": "3.11.5"
  }
 },
 "nbformat": 4,
 "nbformat_minor": 2
}
